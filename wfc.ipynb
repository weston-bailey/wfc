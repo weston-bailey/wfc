{
 "cells": [
  {
   "cell_type": "code",
   "execution_count": 7,
   "metadata": {},
   "outputs": [],
   "source": [
    "import random\n",
    "import io\n",
    "import base64\n",
    "from collections import namedtuple\n",
    "# https://numpy.org/\n",
    "import numpy as np\n",
    "# python image library https://pillow.readthedocs.io/en/stable/installation.html\n",
    "from PIL import Image\n",
    "# https://ipython.org/\n",
    "from IPython import display\n",
    "\n",
    "# display helper functions \n",
    "\n",
    "def blend_many(ims):\n",
    "    \"\"\"\n",
    "    Blends a sequence of images\n",
    "    \"\"\"\n",
    "    current, *ims = ims\n",
    "    for i, im in enumerate(ims):\n",
    "        current = Image.blend(current, im, 1 / (i + 2))\n",
    "    return current\n",
    "\n",
    "def blend_tiles(choices, tiles):\n",
    "    \"\"\"\n",
    "    Given a list of states (True if ruled out, False if not) for each tiel, and a list of tiles, return a blend of all the tiles that have't been ruled out.\n",
    "    \"\"\"\n",
    "    to_blend = [tiles[i].bitmap for i in range(len(choices)) if choices[i]]\n",
    "    return blend_many(to_blend)\n",
    "\n",
    "def show_state(potential, tiles):\n",
    "    \"\"\"\n",
    "    Given a list of states for each tile for each position of the image, return\n",
    "    an image representing the state of the global image.\n",
    "    \"\"\"\n",
    "    rows = []\n",
    "    for row in potential:\n",
    "        rows.append([np.asarray(blend_tiles(t, tiles)) for t in row])\n",
    "\n",
    "    rows = np.array(rows)\n",
    "    n_rows, n_cols, tile_height, tile_width, _ = rows.shape\n",
    "    images = np.swapaxes(rows, 1, 2)\n",
    "    return Image.fromarray(images.reshape(n_rows*tile_height, n_cols*tile_width, 4))\n",
    "\n",
    "\n",
    "def find_true(array):\n",
    "    \"\"\"\n",
    "    Like np.nonzero, except it makes sense\n",
    "    \"\"\"\n",
    "    transform = int if len(np.asarray(array).shape) == 1 else tuple\n",
    "    return list(map(transform, np.transpose(np.nonzero(array))))\n",
    "\n",
    "# assemble image\n",
    "straight_image = Image.open(io.BytesIO(base64.b64decode('iVBORw0KGgoAAAANSUhEUgAAAAoAAAAKCAYAAACNMs+9AAAAMklEQVQYlWNQVrT9r6xo+988UfN/0yqN/4evOP0/fMXpf9Mqjf/miZr/YfIMowrpqxAAjKLGXfWE8ZAAAAAASUVORK5CYII=')))\n",
    "bend_image = Image.open(io.BytesIO(base64.b64decode('iVBORw0KGgoAAAANSUhEUgAAAAoAAAAKCAYAAACNMs+9AAAANklEQVQYlWNQVrT9TwxmIFmheaImXoyisGmVBk6MofDwFSesmHKFRFvdtEoDv2fQFWINHnwKAQHMxl1/fce/AAAAAElFTkSuQmCC')))\n",
    "blank_image = Image.open(io.BytesIO(base64.b64decode('iVBORw0KGgoAAAANSUhEUgAAAAoAAAAKCAYAAACNMs+9AAAAFElEQVQYlWNQVrT9TwxmGFVIX4UAoDOWARI9hF0AAAAASUVORK5CYII=')))\n",
    "cross_image = Image.open(io.BytesIO(base64.b64decode('iVBORw0KGgoAAAANSUhEUgAAAAoAAAAKCAYAAACNMs+9AAAAU0lEQVQYlWNQVrT9r6xo+988UfN/0yqN/4evOP0/fMXpf9Mqjf/miZr/YfIMRCs0T9T8D8PYFMIwQ9Mqjf/IGFkhMmaASRDCxCsk2mqiPUP1cAQAKI/idfPNuccAAAAASUVORK5CYII=')))\n",
    "t_image = Image.open(io.BytesIO(base64.b64decode('iVBORw0KGgoAAAANSUhEUgAAAAoAAAAKCAYAAACNMs+9AAAAWUlEQVQYlWNQVrT9r6xo+988UfN/0yqN/4evOP0/fMXpf9Mqjf/miZr/YfIMRCs0T9T8D8PYFMIwQ9Mqjf/IGFkhMmaASRDCxCtEtwIXRvEMPgwPHkKYaIUAow/UaQFDAc4AAAAASUVORK5CYII=')))\n",
    "\n",
    "# define which parts of the images have pipes that can be connected\n",
    "\n",
    "Tile = namedtuple('Tile', ('name', 'bitmap', 'sides', 'weight'))\n",
    "\n",
    "tiles = [\n",
    "    Tile('straight_ud', straight_image,\n",
    "         [False, True, False, True], 1/2),\n",
    "    Tile('straight_lr', straight_image.transpose(Image.Transpose.ROTATE_90),\n",
    "         [True, False, True, False], 1/2),\n",
    "    Tile('bend_br', bend_image,\n",
    "         [True, False, False, True], 1/4),\n",
    "    Tile('bend_tr', bend_image.transpose(Image.Transpose.ROTATE_90),\n",
    "         [True, True, False, False], 1/4),\n",
    "    Tile('bend_tl', bend_image.transpose(Image.Transpose.ROTATE_180),\n",
    "         [False, True, True, False], 1/4),\n",
    "    Tile('bend_bl', bend_image.transpose(Image.Transpose.ROTATE_270),\n",
    "         [False, False, True, True], 1/4),\n",
    "    Tile('t_u', t_image,\n",
    "         [True, True, True, False], 1/4),\n",
    "    Tile('t_l', t_image.transpose(Image.Transpose.ROTATE_90),\n",
    "         [False, True, True, True], 1/4),\n",
    "    Tile('t_d', t_image.transpose(Image.Transpose.ROTATE_180),\n",
    "         [True, False, True, True], 1/4),\n",
    "    Tile('t_r', t_image.transpose(Image.Transpose.ROTATE_270),\n",
    "         [True, True, False, True], 1/4),\n",
    "    Tile('blank', blank_image,\n",
    "         [False, False, False, False], 1),\n",
    "    Tile('cross', cross_image,\n",
    "         [True, True, True, True], 1)\n",
    "]\n",
    "\n",
    "# array of of weights for quick access\n",
    "weights = np.asarray([t.weight for t in tiles])\n",
    "\n",
    "# all values in matrix a True at first, and wieghts filter down possibilities\n",
    "potential = np.full((30, 30, len(tiles)), True)"
   ]
  },
  {
   "cell_type": "code",
   "execution_count": 8,
   "metadata": {},
   "outputs": [
    {
     "data": {
      "image/png": "[encoded data removed]",
      "text/plain": [
       "<PIL.Image.Image image mode=RGBA size=300x300>"
      ]
     },
     "metadata": {},
     "output_type": "display_data"
    }
   ],
   "source": [
    "display.display(show_state(potential, tiles))"
   ]
  },
  {
   "cell_type": "code",
   "execution_count": null,
   "metadata": {},
   "outputs": [],
   "source": [
    "def run_iteration(old_potential):\n",
    "    potential = old_potential.copy()\n",
    "    # 3 find the undecided location with the fewest remaining tiles\n",
    "    to_collapse = location_with_fewest_choices(potential)\n",
    "    # 1 if all locations are decided, we are done\n",
    "    if to_collapse is None:\n",
    "        raise StopIteration()\n",
    "    # 2 if any location has no choices left, we have failed\n",
    "    elif not np.any(potential[to_collapse]):\n",
    "        raise Exception(f'no choices left at {to_collapse}')\n",
    "    # 4 collapse step -- pick a tile at random among those that are still possible choices for this location. mark this tile as the only remaining possibility for this location\n",
    "    else:\n",
    "        nonzero = find_true(potential[to_collapse])\n",
    "        tile_probs = weights[nonzero] / sum(weights[nonzero])\n",
    "        selected_tile = np.random.choice(nonzero, p=tile_probs)\n",
    "        potential[to_collapse] = False\n",
    "        potential[to_collapse][selected_tile] = True\n",
    "        # 5 propagation step -- this choise is likely to rule out some possible tiles at neighboring locations. we need to update our potential to reflect this\n",
    "        propagate(potential, to_collapse)\n",
    "        return potential"
   ]
  }
 ],
 "metadata": {
  "kernelspec": {
   "display_name": "Python 3.8.10 ('venv': venv)",
   "language": "python",
   "name": "python3"
  },
  "language_info": {
   "codemirror_mode": {
    "name": "ipython",
    "version": 3
   },
   "file_extension": ".py",
   "mimetype": "text/x-python",
   "name": "python",
   "nbconvert_exporter": "python",
   "pygments_lexer": "ipython3",
   "version": "3.8.10"
  },
  "orig_nbformat": 4,
  "vscode": {
   "interpreter": {
    "hash": "6e85f631afbf0bbaa59c122238038eace96023a607b20b0ca58206acc57f8c89"
   }
  }
 },
 "nbformat": 4,
 "nbformat_minor": 2
}
